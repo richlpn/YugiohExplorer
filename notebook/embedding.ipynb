{
 "cells": [
  {
   "cell_type": "code",
   "execution_count": 2,
   "id": "45e99336",
   "metadata": {},
   "outputs": [
    {
     "name": "stdout",
     "output_type": "stream",
     "text": [
      "\u001b[33mWARNING: Running pip as the 'root' user can result in broken permissions and conflicting behaviour with the system package manager, possibly rendering your system unusable. It is recommended to use a virtual environment instead: https://pip.pypa.io/warnings/venv. Use the --root-user-action option if you know what you are doing and want to suppress this warning.\u001b[0m\u001b[33m\n",
      "\u001b[0m\n",
      "\u001b[1m[\u001b[0m\u001b[34;49mnotice\u001b[0m\u001b[1;39;49m]\u001b[0m\u001b[39;49m A new release of pip is available: \u001b[0m\u001b[31;49m25.0.1\u001b[0m\u001b[39;49m -> \u001b[0m\u001b[32;49m25.1.1\u001b[0m\n",
      "\u001b[1m[\u001b[0m\u001b[34;49mnotice\u001b[0m\u001b[1;39;49m]\u001b[0m\u001b[39;49m To update, run: \u001b[0m\u001b[32;49mpython3 -m pip install --upgrade pip\u001b[0m\n"
     ]
    }
   ],
   "source": [
    "!pip install pandas sentence-transformers torch pyarrow --quiet"
   ]
  },
  {
   "cell_type": "code",
   "execution_count": null,
   "id": "0c0bb1c5",
   "metadata": {},
   "outputs": [
    {
     "ename": "ModuleNotFoundError",
     "evalue": "No module named 'pandas'",
     "output_type": "error",
     "traceback": [
      "\u001b[31m---------------------------------------------------------------------------\u001b[39m",
      "\u001b[31mModuleNotFoundError\u001b[39m                       Traceback (most recent call last)",
      "\u001b[36mCell\u001b[39m\u001b[36m \u001b[39m\u001b[32mIn[1]\u001b[39m\u001b[32m, line 1\u001b[39m\n\u001b[32m----> \u001b[39m\u001b[32m1\u001b[39m \u001b[38;5;28;01mimport\u001b[39;00m\u001b[38;5;250m \u001b[39m\u001b[34;01mpandas\u001b[39;00m\u001b[38;5;250m \u001b[39m\u001b[38;5;28;01mas\u001b[39;00m\u001b[38;5;250m \u001b[39m\u001b[34;01mpd\u001b[39;00m\n\u001b[32m      2\u001b[39m \u001b[38;5;66;03m# import numpy as np\u001b[39;00m\n\u001b[32m      3\u001b[39m \u001b[38;5;66;03m# from sentence_transformers import SentenceTransformer\u001b[39;00m\n\u001b[32m      4\u001b[39m \u001b[38;5;66;03m# import torch\u001b[39;00m\n",
      "\u001b[31mModuleNotFoundError\u001b[39m: No module named 'pandas'"
     ]
    }
   ],
   "source": [
    "import pandas as pd\n",
    "import numpy as np\n",
    "from sentence_transformers import SentenceTransformer\n",
    "import torch"
   ]
  },
  {
   "cell_type": "code",
   "execution_count": 3,
   "id": "4d6506de",
   "metadata": {},
   "outputs": [],
   "source": [
    "df = pd.read_parquet('/tf/dev/data/yugioh_cards.parquet')"
   ]
  },
  {
   "cell_type": "code",
   "execution_count": 5,
   "id": "6c16823b",
   "metadata": {},
   "outputs": [
    {
     "data": {
      "text/plain": [
       "array(['Spell Card', 'Effect Monster', 'Normal Monster',\n",
       "       'Flip Effect Monster', 'Link Monster', 'Trap Card',\n",
       "       'Union Effect Monster', 'Fusion Monster',\n",
       "       'Pendulum Effect Monster', 'XYZ Monster', 'Synchro Monster',\n",
       "       'Synchro Tuner Monster', 'Tuner Monster', 'Gemini Monster',\n",
       "       'Normal Tuner Monster', 'Spirit Monster', 'Ritual Effect Monster',\n",
       "       'Skill Card', 'Token', 'Pendulum Effect Fusion Monster',\n",
       "       'Ritual Monster', 'Toon Monster', 'Pendulum Normal Monster',\n",
       "       'Synchro Pendulum Effect Monster', 'Pendulum Tuner Effect Monster',\n",
       "       'XYZ Pendulum Effect Monster', 'Pendulum Effect Ritual Monster',\n",
       "       'Pendulum Flip Effect Monster', 'Flip Tuner Effect Monster'],\n",
       "      dtype=object)"
      ]
     },
     "execution_count": 5,
     "metadata": {},
     "output_type": "execute_result"
    }
   ],
   "source": [
    "df['type'].unique()"
   ]
  },
  {
   "cell_type": "code",
   "execution_count": 11,
   "id": "ca5b497c",
   "metadata": {},
   "outputs": [
    {
     "data": {
      "text/plain": [
       "'\"A\" Cell Breeding Device - Spell Card - Continuous - ATK nan DEF nan - During each of your Standby Phases, put 1 A-Counter on 1 face-up monster your opponent controls.'"
      ]
     },
     "execution_count": 11,
     "metadata": {},
     "output_type": "execute_result"
    }
   ],
   "source": [
    "def card_to_text(row):\n",
    "    return f\"{row['name']} - {row['type']} - {row.get('race', '')} - ATK {row.get('atk', '')} DEF {row.get('def', '')} - {row['desc']}\"\n",
    "    \n",
    "df['search_text'] = df.apply(card_to_text, axis=1)\n",
    "df[\"search_text\"].iloc[0]"
   ]
  },
  {
   "cell_type": "code",
   "execution_count": 7,
   "id": "1169fe31",
   "metadata": {},
   "outputs": [
    {
     "name": "stderr",
     "output_type": "stream",
     "text": [
      "/usr/local/lib/python3.11/dist-packages/torch/cuda/__init__.py:174: UserWarning: CUDA initialization: Unexpected error from cudaGetDeviceCount(). Did you run some cuda functions before calling NumCudaDevices() that might have already set an error? Error 34: CUDA driver is a stub library (Triggered internally at /pytorch/c10/cuda/CUDAFunctions.cpp:109.)\n",
      "  return torch._C._cuda_getDeviceCount() > 0\n"
     ]
    }
   ],
   "source": [
    "model = SentenceTransformer('all-MiniLM-L6-v2') "
   ]
  },
  {
   "cell_type": "code",
   "execution_count": 13,
   "id": "2729abc6",
   "metadata": {},
   "outputs": [
    {
     "data": {
      "application/vnd.jupyter.widget-view+json": {
       "model_id": "16757d275dd947e3bdf7ba2bf5a2e62a",
       "version_major": 2,
       "version_minor": 0
      },
      "text/plain": [
       "Batches:   0%|          | 0/429 [00:00<?, ?it/s]"
      ]
     },
     "metadata": {},
     "output_type": "display_data"
    }
   ],
   "source": [
    "embeddings = model.encode(df['search_text'].tolist(), show_progress_bar=True)"
   ]
  },
  {
   "cell_type": "code",
   "execution_count": 8,
   "id": "c7c4655c",
   "metadata": {},
   "outputs": [],
   "source": [
    "import faiss\n",
    "import numpy as np\n"
   ]
  },
  {
   "cell_type": "code",
   "execution_count": null,
   "id": "82946b45",
   "metadata": {},
   "outputs": [],
   "source": [
    "\n",
    "embedding_dim = len(embeddings[0])\n",
    "index = faiss.IndexFlatL2(embedding_dim)\n",
    "index.add(np.array(embeddings).astype('float32'))"
   ]
  },
  {
   "cell_type": "code",
   "execution_count": 9,
   "id": "6cc44848",
   "metadata": {},
   "outputs": [],
   "source": [
    "index = faiss.read_index('/tf/dev/data/yugioh.index')"
   ]
  },
  {
   "cell_type": "code",
   "execution_count": null,
   "id": "d3c56804",
   "metadata": {},
   "outputs": [],
   "source": [
    "def search(query, k=5):\n",
    "    query_vec = model.encode([query])\n",
    "    D, I = index.search(np.array(query_vec).astype('float32'), k)\n",
    "    return df.iloc[I[0]][['name',]]"
   ]
  },
  {
   "cell_type": "code",
   "execution_count": 24,
   "id": "975420d7",
   "metadata": {},
   "outputs": [
    {
     "data": {
      "text/html": [
       "<div>\n",
       "<style scoped>\n",
       "    .dataframe tbody tr th:only-of-type {\n",
       "        vertical-align: middle;\n",
       "    }\n",
       "\n",
       "    .dataframe tbody tr th {\n",
       "        vertical-align: top;\n",
       "    }\n",
       "\n",
       "    .dataframe thead th {\n",
       "        text-align: right;\n",
       "    }\n",
       "</style>\n",
       "<table border=\"1\" class=\"dataframe\">\n",
       "  <thead>\n",
       "    <tr style=\"text-align: right;\">\n",
       "      <th></th>\n",
       "      <th>name</th>\n",
       "    </tr>\n",
       "  </thead>\n",
       "  <tbody>\n",
       "    <tr>\n",
       "      <th>11543</th>\n",
       "      <td>Supreme Rage</td>\n",
       "    </tr>\n",
       "    <tr>\n",
       "      <th>10915</th>\n",
       "      <td>Soul of the Supreme Celestial King</td>\n",
       "    </tr>\n",
       "    <tr>\n",
       "      <th>11367</th>\n",
       "      <td>Succubus Knight</td>\n",
       "    </tr>\n",
       "    <tr>\n",
       "      <th>10916</th>\n",
       "      <td>Soul of the Supreme King</td>\n",
       "    </tr>\n",
       "    <tr>\n",
       "      <th>11942</th>\n",
       "      <td>The Furious Sea King</td>\n",
       "    </tr>\n",
       "    <tr>\n",
       "      <th>9339</th>\n",
       "      <td>Protector of the Throne</td>\n",
       "    </tr>\n",
       "    <tr>\n",
       "      <th>11538</th>\n",
       "      <td>Supreme King Gate Magician</td>\n",
       "    </tr>\n",
       "    <tr>\n",
       "      <th>11541</th>\n",
       "      <td>Supreme King Z-ARC - Synchro Universe</td>\n",
       "    </tr>\n",
       "    <tr>\n",
       "      <th>6446</th>\n",
       "      <td>King's Knight</td>\n",
       "    </tr>\n",
       "    <tr>\n",
       "      <th>7780</th>\n",
       "      <td>Miracle of the Supreme King</td>\n",
       "    </tr>\n",
       "  </tbody>\n",
       "</table>\n",
       "</div>"
      ],
      "text/plain": [
       "                                        name\n",
       "11543                           Supreme Rage\n",
       "10915     Soul of the Supreme Celestial King\n",
       "11367                        Succubus Knight\n",
       "10916               Soul of the Supreme King\n",
       "11942                   The Furious Sea King\n",
       "9339                 Protector of the Throne\n",
       "11538             Supreme King Gate Magician\n",
       "11541  Supreme King Z-ARC - Synchro Universe\n",
       "6446                           King's Knight\n",
       "7780             Miracle of the Supreme King"
      ]
     },
     "execution_count": 24,
     "metadata": {},
     "output_type": "execute_result"
    }
   ],
   "source": [
    "search(\"Supreme King\", k=10)"
   ]
  },
  {
   "cell_type": "code",
   "execution_count": null,
   "id": "ccad981b",
   "metadata": {},
   "outputs": [],
   "source": [
    "faiss.write_index(index, \"dev/data/yugioh.index\")"
   ]
  }
 ],
 "metadata": {
  "kernelspec": {
   "display_name": "Python 3 (ipykernel)",
   "language": "python",
   "name": "python3"
  }
 },
 "nbformat": 4,
 "nbformat_minor": 5
}
