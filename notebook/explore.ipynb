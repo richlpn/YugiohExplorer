{
 "cells": [
  {
   "cell_type": "code",
   "execution_count": 1,
   "id": "5c0cf0bd",
   "metadata": {},
   "outputs": [
    {
     "name": "stdout",
     "output_type": "stream",
     "text": [
      "\u001b[33mWARNING: Running pip as the 'root' user can result in broken permissions and conflicting behaviour with the system package manager, possibly rendering your system unusable. It is recommended to use a virtual environment instead: https://pip.pypa.io/warnings/venv. Use the --root-user-action option if you know what you are doing and want to suppress this warning.\u001b[0m\u001b[33m\n",
      "\u001b[0m\n",
      "\u001b[1m[\u001b[0m\u001b[34;49mnotice\u001b[0m\u001b[1;39;49m]\u001b[0m\u001b[39;49m A new release of pip is available: \u001b[0m\u001b[31;49m25.0.1\u001b[0m\u001b[39;49m -> \u001b[0m\u001b[32;49m25.1.1\u001b[0m\n",
      "\u001b[1m[\u001b[0m\u001b[34;49mnotice\u001b[0m\u001b[1;39;49m]\u001b[0m\u001b[39;49m To update, run: \u001b[0m\u001b[32;49mpython3 -m pip install --upgrade pip\u001b[0m\n"
     ]
    }
   ],
   "source": [
    "!pip install pandas pyarrow faiss-cpu tf-keras sentence_transformers huggingface_hub[hf_xet] --quiet"
   ]
  },
  {
   "cell_type": "code",
   "execution_count": 2,
   "id": "5fb3915a",
   "metadata": {},
   "outputs": [
    {
     "name": "stderr",
     "output_type": "stream",
     "text": [
      "2025-05-18 17:44:16.177370: I tensorflow/core/util/port.cc:153] oneDNN custom operations are on. You may see slightly different numerical results due to floating-point round-off errors from different computation orders. To turn them off, set the environment variable `TF_ENABLE_ONEDNN_OPTS=0`.\n",
      "2025-05-18 17:44:16.370453: E external/local_xla/xla/stream_executor/cuda/cuda_fft.cc:467] Unable to register cuFFT factory: Attempting to register factory for plugin cuFFT when one has already been registered\n",
      "WARNING: All log messages before absl::InitializeLog() is called are written to STDERR\n",
      "E0000 00:00:1747590256.445612       4 cuda_dnn.cc:8579] Unable to register cuDNN factory: Attempting to register factory for plugin cuDNN when one has already been registered\n",
      "E0000 00:00:1747590256.465974       4 cuda_blas.cc:1407] Unable to register cuBLAS factory: Attempting to register factory for plugin cuBLAS when one has already been registered\n",
      "W0000 00:00:1747590256.620438       4 computation_placer.cc:177] computation placer already registered. Please check linkage and avoid linking the same target more than once.\n",
      "W0000 00:00:1747590256.620491       4 computation_placer.cc:177] computation placer already registered. Please check linkage and avoid linking the same target more than once.\n",
      "W0000 00:00:1747590256.620492       4 computation_placer.cc:177] computation placer already registered. Please check linkage and avoid linking the same target more than once.\n",
      "W0000 00:00:1747590256.620493       4 computation_placer.cc:177] computation placer already registered. Please check linkage and avoid linking the same target more than once.\n",
      "2025-05-18 17:44:16.638733: I tensorflow/core/platform/cpu_feature_guard.cc:210] This TensorFlow binary is optimized to use available CPU instructions in performance-critical operations.\n",
      "To enable the following instructions: AVX2 AVX_VNNI FMA, in other operations, rebuild TensorFlow with the appropriate compiler flags.\n"
     ]
    }
   ],
   "source": [
    "import pandas as pd\n",
    "import numpy as np\n",
    "from sentence_transformers import SentenceTransformer\n",
    "import torch\n",
    "import faiss"
   ]
  },
  {
   "cell_type": "code",
   "execution_count": 3,
   "id": "5204c6b2",
   "metadata": {},
   "outputs": [
    {
     "name": "stderr",
     "output_type": "stream",
     "text": [
      "/usr/local/lib/python3.11/dist-packages/torch/cuda/__init__.py:174: UserWarning: CUDA initialization: Unexpected error from cudaGetDeviceCount(). Did you run some cuda functions before calling NumCudaDevices() that might have already set an error? Error 34: CUDA driver is a stub library (Triggered internally at /pytorch/c10/cuda/CUDAFunctions.cpp:109.)\n",
      "  return torch._C._cuda_getDeviceCount() > 0\n"
     ]
    }
   ],
   "source": [
    "model = SentenceTransformer('all-MiniLM-L6-v2') "
   ]
  },
  {
   "cell_type": "code",
   "execution_count": 4,
   "id": "cfacb510",
   "metadata": {},
   "outputs": [],
   "source": [
    "index = faiss.read_index('/opt/data/yugioh.index')"
   ]
  },
  {
   "cell_type": "code",
   "execution_count": 5,
   "id": "8908e78b",
   "metadata": {},
   "outputs": [],
   "source": [
    "df = pd.read_parquet('/opt/data/yugioh_cards.parquet')"
   ]
  },
  {
   "cell_type": "code",
   "execution_count": 6,
   "id": "68b7caf1",
   "metadata": {},
   "outputs": [],
   "source": [
    "def search(query, k=5):\n",
    "    query_vec = model.encode([query])\n",
    "    D, I = index.search(np.array(query_vec).astype('float32'), k)\n",
    "    return df.iloc[I[0]][['name',]]"
   ]
  },
  {
   "cell_type": "code",
   "execution_count": 39,
   "id": "78bc97a8",
   "metadata": {},
   "outputs": [],
   "source": [
    "query = \"Elemental\"\n",
    "types = [\"Spell Card\"]\n",
    "embedding = model.encode([query])\n",
    "mask = df['type'] == \"Spell Card\" # .isin(types)"
   ]
  },
  {
   "cell_type": "code",
   "execution_count": 47,
   "id": "c76e8376",
   "metadata": {},
   "outputs": [],
   "source": [
    "filtered_embeddings = np.array(embedding)\n",
    "D, I = index.search(filtered_embeddings.astype('float32'), 100)\n",
    "filtered_cards = df.iloc[I[0]].loc[mask]"
   ]
  },
  {
   "cell_type": "code",
   "execution_count": 48,
   "id": "2725f4e2",
   "metadata": {},
   "outputs": [],
   "source": [
    "filtered_cards = df.iloc[I[0]].loc[mask]\n",
    "results = [{\n",
    "            \"name\": filtered_cards.iloc[row]['name'],\n",
    "            \"image_url\": filtered_cards.iloc[row]['card_images'].tolist(), # array of dict\n",
    "            \"desc\": filtered_cards.iloc[row]['desc'], # list of dict\n",
    "            \"distance\": int(D[0][row])} \n",
    "        for row in range(filtered_cards.shape[0])]"
   ]
  },
  {
   "cell_type": "code",
   "execution_count": 50,
   "id": "db7eb052",
   "metadata": {},
   "outputs": [
    {
     "data": {
      "text/plain": [
       "[{'name': 'Neo Space',\n",
       "  'image_url': [{'id': 42015635,\n",
       "    'image_url': 'https://images.ygoprodeck.com/images/cards/42015635.jpg',\n",
       "    'image_url_cropped': 'https://images.ygoprodeck.com/images/cards_cropped/42015635.jpg',\n",
       "    'image_url_small': 'https://images.ygoprodeck.com/images/cards_small/42015635.jpg'}],\n",
       "  'desc': '\"Elemental HERO Neos\" and all Fusion Monsters that specifically list \"Elemental HERO Neos\" as a Fusion Material gain 500 ATK. Fusion Monsters that specifically list \"Elemental HERO Neos\" as a Fusion Material do not have to activate their effects during the End Phase that shuffle them into the Extra Deck.',\n",
       "  'distance': 0},\n",
       " {'name': 'Miracle Fusion',\n",
       "  'image_url': [{'id': 45906428,\n",
       "    'image_url': 'https://images.ygoprodeck.com/images/cards/45906428.jpg',\n",
       "    'image_url_cropped': 'https://images.ygoprodeck.com/images/cards_cropped/45906428.jpg',\n",
       "    'image_url_small': 'https://images.ygoprodeck.com/images/cards_small/45906428.jpg'}],\n",
       "  'desc': 'Fusion Summon 1 \"Elemental HERO\" Fusion Monster from your Extra Deck, by banishing Fusion Materials listed on it from your field or your GY.',\n",
       "  'distance': 0},\n",
       " {'name': 'O - Oversoul',\n",
       "  'image_url': [{'id': 63703130,\n",
       "    'image_url': 'https://images.ygoprodeck.com/images/cards/63703130.jpg',\n",
       "    'image_url_cropped': 'https://images.ygoprodeck.com/images/cards_cropped/63703130.jpg',\n",
       "    'image_url_small': 'https://images.ygoprodeck.com/images/cards_small/63703130.jpg'}],\n",
       "  'desc': 'Target 1 \"Elemental HERO\" Normal Monster in your Graveyard; Special Summon that target.',\n",
       "  'distance': 0},\n",
       " {'name': 'E - Emergency Call',\n",
       "  'image_url': [{'id': 213326,\n",
       "    'image_url': 'https://images.ygoprodeck.com/images/cards/213326.jpg',\n",
       "    'image_url_cropped': 'https://images.ygoprodeck.com/images/cards_cropped/213326.jpg',\n",
       "    'image_url_small': 'https://images.ygoprodeck.com/images/cards_small/213326.jpg'}],\n",
       "  'desc': 'Add 1 \"Elemental HERO\" monster from your Deck to your hand.',\n",
       "  'distance': 0},\n",
       " {'name': 'Hero Flash!!',\n",
       "  'image_url': [{'id': 191749,\n",
       "    'image_url': 'https://images.ygoprodeck.com/images/cards/191749.jpg',\n",
       "    'image_url_cropped': 'https://images.ygoprodeck.com/images/cards_cropped/191749.jpg',\n",
       "    'image_url_small': 'https://images.ygoprodeck.com/images/cards_small/191749.jpg'}],\n",
       "  'desc': 'Banish \"H - Heated Heart\", \"E - Emergency Call\", \"R - Righteous Justice\" and \"O - Oversoul\" from your Graveyard; Special Summon 1 \"Elemental HERO\" Normal Monster from your Deck. All \"Elemental HERO\" Normal Monsters you currently control can attack your opponent directly this turn.',\n",
       "  'distance': 0},\n",
       " {'name': 'Instant Neo Space',\n",
       "  'image_url': [{'id': 11913700,\n",
       "    'image_url': 'https://images.ygoprodeck.com/images/cards/11913700.jpg',\n",
       "    'image_url_cropped': 'https://images.ygoprodeck.com/images/cards_cropped/11913700.jpg',\n",
       "    'image_url_small': 'https://images.ygoprodeck.com/images/cards_small/11913700.jpg'}],\n",
       "  'desc': 'Equip only to a Fusion Monster that lists \"Elemental HERO Neos\" as material. It does not have to activate its effect during the End Phase to shuffle itself into the Extra Deck. If the equipped monster leaves the field: You can Special Summon 1 \"Elemental HERO Neos\" from your hand, Deck, or GY.',\n",
       "  'distance': 0},\n",
       " {'name': 'Fullmetalfoes Fusion',\n",
       "  'image_url': [{'id': 39564736,\n",
       "    'image_url': 'https://images.ygoprodeck.com/images/cards/39564736.jpg',\n",
       "    'image_url_cropped': 'https://images.ygoprodeck.com/images/cards_cropped/39564736.jpg',\n",
       "    'image_url_small': 'https://images.ygoprodeck.com/images/cards_small/39564736.jpg'}],\n",
       "  'desc': 'Fusion Summon 1 \"Metalfoes\" Fusion Monster from your Extra Deck, using monsters from your hand or field as Fusion Materials.',\n",
       "  'distance': 1},\n",
       " {'name': 'Miracle Contact',\n",
       "  'image_url': [{'id': 35255456,\n",
       "    'image_url': 'https://images.ygoprodeck.com/images/cards/35255456.jpg',\n",
       "    'image_url_cropped': 'https://images.ygoprodeck.com/images/cards_cropped/35255456.jpg',\n",
       "    'image_url_small': 'https://images.ygoprodeck.com/images/cards_small/35255456.jpg'}],\n",
       "  'desc': 'Shuffle into the Deck, from your hand, field, or GY, the Fusion Materials that are listed on an \"Elemental HERO\" Fusion Monster that lists \"Elemental HERO Neos\" as Fusion Material, then Special Summon that Fusion Monster from your Extra Deck, ignoring its Summoning conditions.',\n",
       "  'distance': 1},\n",
       " {'name': 'R - Righteous Justice',\n",
       "  'image_url': [{'id': 37318031,\n",
       "    'image_url': 'https://images.ygoprodeck.com/images/cards/37318031.jpg',\n",
       "    'image_url_cropped': 'https://images.ygoprodeck.com/images/cards_cropped/37318031.jpg',\n",
       "    'image_url_small': 'https://images.ygoprodeck.com/images/cards_small/37318031.jpg'}],\n",
       "  'desc': 'Destroy Spell/Trap Cards equal to the number of \"Elemental HERO\" cards you control.',\n",
       "  'distance': 1},\n",
       " {'name': 'Acidic Downpour',\n",
       "  'image_url': [{'id': 35956022,\n",
       "    'image_url': 'https://images.ygoprodeck.com/images/cards/35956022.jpg',\n",
       "    'image_url_cropped': 'https://images.ygoprodeck.com/images/cards_cropped/35956022.jpg',\n",
       "    'image_url_small': 'https://images.ygoprodeck.com/images/cards_small/35956022.jpg'}],\n",
       "  'desc': 'All EARTH monsters lose 500 ATK and gain 400 DEF.',\n",
       "  'distance': 1},\n",
       " {'name': 'Wrath of Neos',\n",
       "  'image_url': [{'id': 52098461,\n",
       "    'image_url': 'https://images.ygoprodeck.com/images/cards/52098461.jpg',\n",
       "    'image_url_cropped': 'https://images.ygoprodeck.com/images/cards_cropped/52098461.jpg',\n",
       "    'image_url_small': 'https://images.ygoprodeck.com/images/cards_small/52098461.jpg'}],\n",
       "  'desc': 'Select 1 face-up \"Elemental HERO Neos\" you control. Return it to the Deck and destroy all cards on the field.',\n",
       "  'distance': 1},\n",
       " {'name': 'Rose Bud',\n",
       "  'image_url': [{'id': 25090294,\n",
       "    'image_url': 'https://images.ygoprodeck.com/images/cards/25090294.jpg',\n",
       "    'image_url_cropped': 'https://images.ygoprodeck.com/images/cards_cropped/25090294.jpg',\n",
       "    'image_url_small': 'https://images.ygoprodeck.com/images/cards_small/25090294.jpg'}],\n",
       "  'desc': 'Tribute 1 \"Elemental HERO Knospe\"; Special Summon 1 \"Elemental HERO Poison Rose\" from your hand or Deck.',\n",
       "  'distance': 1},\n",
       " {'name': 'Bubble Shuffle',\n",
       "  'image_url': [{'id': 61968753,\n",
       "    'image_url': 'https://images.ygoprodeck.com/images/cards/61968753.jpg',\n",
       "    'image_url_cropped': 'https://images.ygoprodeck.com/images/cards_cropped/61968753.jpg',\n",
       "    'image_url_small': 'https://images.ygoprodeck.com/images/cards_small/61968753.jpg'}],\n",
       "  'desc': 'Target 1 face-up Attack Position \"Elemental HERO Bubbleman\" you control and 1 face-up Attack Position monster your opponent controls; change both those targets to Defense Position, then Tribute that \"Elemental HERO Bubbleman\", then Special Summon 1 \"Elemental HERO\" monster from your hand.',\n",
       "  'distance': 1},\n",
       " {'name': 'A.I. Love Fusion',\n",
       "  'image_url': [{'id': 59332125,\n",
       "    'image_url': 'https://images.ygoprodeck.com/images/cards/59332125.jpg',\n",
       "    'image_url_cropped': 'https://images.ygoprodeck.com/images/cards_cropped/59332125.jpg',\n",
       "    'image_url_small': 'https://images.ygoprodeck.com/images/cards_small/59332125.jpg'}],\n",
       "  'desc': 'Fusion Summon 1 Cyberse Fusion Monster from your Extra Deck, using monsters from your hand or field as Fusion Material. If you use your \"@Ignister\" monster as Fusion Material, you can also use 1 Link Monster your opponent controls as material. You can only activate 1 \"A.I. Love Fusion\" per turn.',\n",
       "  'distance': 1},\n",
       " {'name': 'Fake Hero',\n",
       "  'image_url': [{'id': 78387742,\n",
       "    'image_url': 'https://images.ygoprodeck.com/images/cards/78387742.jpg',\n",
       "    'image_url_cropped': 'https://images.ygoprodeck.com/images/cards_cropped/78387742.jpg',\n",
       "    'image_url_small': 'https://images.ygoprodeck.com/images/cards_small/78387742.jpg'}],\n",
       "  'desc': 'Special Summon 1 \"Elemental HERO\" monster from your hand. That monster cannot attack, and returns to the hand during the End Phase.',\n",
       "  'distance': 1}]"
      ]
     },
     "execution_count": 50,
     "metadata": {},
     "output_type": "execute_result"
    }
   ],
   "source": [
    "results"
   ]
  }
 ],
 "metadata": {
  "kernelspec": {
   "display_name": "Python 3 (ipykernel)",
   "language": "python",
   "name": "python3"
  },
  "language_info": {
   "codemirror_mode": {
    "name": "ipython",
    "version": 3
   },
   "file_extension": ".py",
   "mimetype": "text/x-python",
   "name": "python",
   "nbconvert_exporter": "python",
   "pygments_lexer": "ipython3",
   "version": "3.11.11"
  }
 },
 "nbformat": 4,
 "nbformat_minor": 5
}
